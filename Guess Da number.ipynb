{
 "cells": [
  {
   "cell_type": "code",
   "execution_count": 4,
   "id": "220dfa6e",
   "metadata": {
    "scrolled": true
   },
   "outputs": [
    {
     "name": "stdout",
     "output_type": "stream",
     "text": [
      "Guess a number betwen 1 and 103\n",
      "Sorry. Try again. Too high!\n",
      "Guess a number betwen 1 and 105\n",
      "Sorry. Try again. Too high!\n",
      "Guess a number betwen 1 and 108\n",
      "Yaay. You guessed the right number. It's 8\n"
     ]
    }
   ],
   "source": [
    "#Computer chooses the number and user guesses the number\n",
    "import random\n",
    "def guess(x):\n",
    "    random_number = random.randint(1, x)\n",
    "    guess = 0\n",
    "    \n",
    "    while guess != random_number:\n",
    "        guess = int(input(f'Guess a number betwen 1 and {x}'))\n",
    "        if guess > random_number:\n",
    "            print(\"Sorry. Try again. Too low!\")\n",
    "        elif guess < random_number:\n",
    "            print(\"Sorry. Try again. Too high!\")\n",
    "    print(f\"Yaay. You guessed the right number. It's {random_number}\")\n",
    "\n",
    "\n",
    "guess(10)\n",
    "\n",
    "\n",
    "        "
   ]
  },
  {
   "cell_type": "code",
   "execution_count": 2,
   "id": "6ba6e063",
   "metadata": {},
   "outputs": [
    {
     "name": "stdout",
     "output_type": "stream",
     "text": [
      "Is 6 too high (H), too low (L), or correct (C)?? L\n",
      "Is 8 too high (H), too low (L), or correct (C)?? C\n",
      "Yay! The computer guessed your number, 8, correctly!\n"
     ]
    }
   ],
   "source": [
    "import random\n",
    "def computer_guess(x):\n",
    "    low = 1\n",
    "    high = x\n",
    "    feedback = ''\n",
    "    while feedback != 'c':\n",
    "        if low != high:\n",
    "            guess = random.randint(low, high)\n",
    "        else:\n",
    "            computer_guess = low  # could also be high b/c low = high\n",
    "        feedback = input(f'Is {guess} too high (H), too low (L), or correct (C)?? ').lower()\n",
    "        if feedback == 'h':\n",
    "            high = guess - 1\n",
    "        elif feedback == 'l':\n",
    "            low = guess + 1\n",
    "\n",
    "    print(f'Yay! The computer guessed your number, {guess}, correctly!')\n",
    "computer_guess(10)"
   ]
  }
 ],
 "metadata": {
  "kernelspec": {
   "display_name": "Python 3 (ipykernel)",
   "language": "python",
   "name": "python3"
  },
  "language_info": {
   "codemirror_mode": {
    "name": "ipython",
    "version": 3
   },
   "file_extension": ".py",
   "mimetype": "text/x-python",
   "name": "python",
   "nbconvert_exporter": "python",
   "pygments_lexer": "ipython3",
   "version": "3.9.7"
  }
 },
 "nbformat": 4,
 "nbformat_minor": 5
}
