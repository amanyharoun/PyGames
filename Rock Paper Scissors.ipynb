{
 "cells": [
  {
   "cell_type": "code",
   "execution_count": 7,
   "id": "180b6375",
   "metadata": {
    "scrolled": true
   },
   "outputs": [
    {
     "name": "stdout",
     "output_type": "stream",
     "text": [
      " 'r' for rock, 'p' for paper, 's' for scissorsp\n",
      "You won\n"
     ]
    }
   ],
   "source": [
    "import random\n",
    "def play():\n",
    "    user = input(\" 'r' for rock, 'p' for paper, 's' for scissors\")\n",
    "    computer = random.choice(['r', 'p', 's'])\n",
    "    \n",
    "    if user == computer:\n",
    "        return 'It\\'s a tie'\n",
    "    if is_win(user, computer):\n",
    "        return 'You won'\n",
    "    return 'You lose'\n",
    "    # r> s, s > p, p> r\n",
    "def is_win(player, opponent):\n",
    "    #returns true if the player wins\n",
    "    # r> s, s > p, p> r\n",
    "    if (player == 'r' and opponent == 's') or (player == 's' and opponent == 'p' ) \\\n",
    "    or (player == 'p' and opponent == 'r'):\n",
    "        return True\n",
    "print(play())\n",
    "##make sure to add this \\ after the second if statement. my code didn't work at the beginnig. "
   ]
  },
  {
   "cell_type": "code",
   "execution_count": null,
   "id": "ec02b6bb",
   "metadata": {},
   "outputs": [],
   "source": []
  }
 ],
 "metadata": {
  "kernelspec": {
   "display_name": "Python 3 (ipykernel)",
   "language": "python",
   "name": "python3"
  },
  "language_info": {
   "codemirror_mode": {
    "name": "ipython",
    "version": 3
   },
   "file_extension": ".py",
   "mimetype": "text/x-python",
   "name": "python",
   "nbconvert_exporter": "python",
   "pygments_lexer": "ipython3",
   "version": "3.9.7"
  }
 },
 "nbformat": 4,
 "nbformat_minor": 5
}
