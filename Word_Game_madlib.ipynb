{
 "cells": [
  {
   "cell_type": "code",
   "execution_count": 2,
   "id": "74a054f2",
   "metadata": {},
   "outputs": [
    {
     "name": "stdout",
     "output_type": "stream",
     "text": [
      "Verb: fly\n",
      "Verb: touch\n",
      "Adjective: open\n",
      "I believe I can flyI believe I can touch the skyI think about it every night and daySpread my wings and fly awayI believe I can soarI see me running through that open door\n"
     ]
    }
   ],
   "source": [
    "verb1 = input('Verb: ')\n",
    "verb2 = input('Verb: ')\n",
    "adj = input('Adjective: ')\n",
    "\n",
    "\n",
    "madlib = f\"I believe I can {verb1}\\\n",
    "I believe I can {verb2} the sky\\\n",
    "I think about it every night and day\\\n",
    "Spread my wings and fly away\\\n",
    "I believe I can soar\\\n",
    "I see me running through that {adj} door\"\n",
    "print(madlib)\n"
   ]
  }
 ],
 "metadata": {
  "kernelspec": {
   "display_name": "Python 3 (ipykernel)",
   "language": "python",
   "name": "python3"
  },
  "language_info": {
   "codemirror_mode": {
    "name": "ipython",
    "version": 3
   },
   "file_extension": ".py",
   "mimetype": "text/x-python",
   "name": "python",
   "nbconvert_exporter": "python",
   "pygments_lexer": "ipython3",
   "version": "3.9.7"
  }
 },
 "nbformat": 4,
 "nbformat_minor": 5
}
